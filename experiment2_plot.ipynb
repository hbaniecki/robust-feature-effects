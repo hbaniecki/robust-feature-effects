{
 "cells": [
  {
   "cell_type": "code",
   "execution_count": null,
   "metadata": {},
   "outputs": [],
   "source": [
    "import numpy as np\n",
    "import pandas as pd\n",
    "import seaborn as sns\n",
    "import matplotlib.pyplot as plt\n",
    "\n",
    "SMALL_SIZE = 12\n",
    "MEDIUM_SIZE = 14\n",
    "BIGGER_SIZE = 16\n",
    "\n",
    "plt.rc('font', size=SMALL_SIZE)          # controls default text sizes\n",
    "plt.rc('axes', titlesize=MEDIUM_SIZE)     # fontsize of the axes title\n",
    "plt.rc('axes', labelsize=MEDIUM_SIZE)    # fontsize of the x and y labels\n",
    "plt.rc('xtick', labelsize=SMALL_SIZE)    # fontsize of the tick labels\n",
    "plt.rc('ytick', labelsize=SMALL_SIZE)    # fontsize of the tick labels\n",
    "plt.rc('legend', fontsize=SMALL_SIZE)    # legend fontsize\n",
    "plt.rc('figure', titlesize=BIGGER_SIZE)  # fontsize of the figure title"
   ]
  },
  {
   "cell_type": "code",
   "execution_count": null,
   "metadata": {},
   "outputs": [],
   "source": [
    "data_to_title = {\"heloc\": \"HELOC\", \"gaussian\": \"Synthetic\", \"pima\": \"Pima\", \"heart\": \"Heart\", 'adult': \"Adult\", 'german': \"Credit\"}\n",
    "data_name = \"adult\" # heloc, adult\n",
    "results = pd.read_csv(f'results/model_perturbation_{data_name}.csv')"
   ]
  },
  {
   "cell_type": "code",
   "execution_count": null,
   "metadata": {},
   "outputs": [],
   "source": [
    "df_dataset = results.loc[results.dataset == data_name,]\n",
    "for iter, sigma in enumerate([0.10, 0.25, 0.50, 1.0]):\n",
    "    df_sigma = df_dataset.loc[df_dataset.sigma == sigma,]\n",
    "    df_label = df_sigma.loc[df_sigma.label == \"marginal\",]\n",
    "    plt.figure(figsize=(5, 3))\n",
    "    g = sns.lineplot(\n",
    "        data=df_sigma,\n",
    "        x=\"layer\", y=\"dfe\",\n",
    "        hue=\"label\", style=\"label\",\n",
    "        errorbar=\"se\",\n",
    "        linewidth=3,\n",
    "        palette=[\"#4285F4\", \"#DB4437\", \"#0F9D58\"]\n",
    "    )\n",
    "    g.set_title(data_to_title[data_name] + f' $\\;\\sigma={sigma}$', fontsize=BIGGER_SIZE)\n",
    "    plt.legend(title=\"Feature effect\")\n",
    "    if iter != 0:\n",
    "        g.legend().remove()\n",
    "    plt.xticks([1, 2, 3], \n",
    "            [f'Layer {i} (${str(df_label.loc[df_label.layer == i,].performance.mean())[2:4]}$%)' for i in [1, 2, 3]])\n",
    "    plt.xlabel(None)\n",
    "    plt.ylabel(\"$\\sum_s \\; \\sum_{\\mathbf{x}_s} | g_s(\\mathbf{x}_s; f, p_{\\mathbf{X}}) - g_s(\\mathbf{x}_s ; f', p_{\\mathbf{X}}) |$\", fontsize=SMALL_SIZE)\n",
    "    plt.ylim([0, 0.5])\n",
    "    plt.tight_layout()\n",
    "    plt.savefig(f'../figures/exp2_{data_name}_{sigma}.pdf')\n",
    "    plt.show()"
   ]
  },
  {
   "cell_type": "code",
   "execution_count": null,
   "metadata": {},
   "outputs": [],
   "source": [
    "data_to_title = {\"heloc\": \"HELOC\", \"gaussian\": \"Synthetic\", \"pima\": \"Pima\", \"heart\": \"Heart\", 'adult': \"Adult\", 'german': \"Credit\"}\n",
    "results = pd.read_csv(f'results/model_perturbation_full.csv')"
   ]
  },
  {
   "cell_type": "code",
   "execution_count": null,
   "metadata": {},
   "outputs": [],
   "source": [
    "for data_name in ['heloc', 'gaussian', 'pima', 'heart', 'adult', 'german']:\n",
    "    df_dataset = results.loc[results.dataset == data_name,]\n",
    "    for iter, sigma in enumerate([0.10, 0.25, 0.50, 1.0]):\n",
    "        df_sigma = df_dataset.loc[df_dataset.sigma == sigma,]\n",
    "        df_label = df_sigma.loc[df_sigma.label == \"marginal\",]\n",
    "        plt.figure(figsize=(5, 3))\n",
    "        g = sns.lineplot(\n",
    "            data=df_sigma,\n",
    "            x=\"layer\", y=\"dfe\",\n",
    "            hue=\"label\", style=\"label\",\n",
    "            errorbar=\"se\",\n",
    "            linewidth=3,\n",
    "            palette=[\"#4285F4\", \"#DB4437\", \"#0F9D58\"]\n",
    "        )\n",
    "        g.set_title(data_to_title[data_name] + f' $\\;\\sigma={sigma}$', fontsize=BIGGER_SIZE)\n",
    "        plt.legend(title=\"Feature effect\")\n",
    "        if iter != 0:\n",
    "            g.legend().remove()\n",
    "        plt.xticks([1, 2, 3], \n",
    "                [f'Layer {i} (${str(df_label.loc[df_label.layer == i,].performance.mean())[2:4]}$%)' for i in [1, 2, 3]])\n",
    "        plt.xlabel(None)\n",
    "        plt.ylabel(\"$\\sum_s \\; \\sum_{\\mathbf{x}_s} | g_s(\\mathbf{x}_s; f, p_{\\mathbf{X}}) - g_s(\\mathbf{x}_s ; f', p_{\\mathbf{X}}) |$\", fontsize=SMALL_SIZE)\n",
    "        plt.ylim([0, 0.5])\n",
    "        plt.tight_layout()\n",
    "        plt.savefig(f'../figures/exp2_{data_name}_{sigma}.pdf')\n",
    "        plt.show()"
   ]
  }
 ],
 "metadata": {
  "kernelspec": {
   "display_name": "robustfe",
   "language": "python",
   "name": "python3"
  },
  "language_info": {
   "codemirror_mode": {
    "name": "ipython",
    "version": 3
   },
   "file_extension": ".py",
   "mimetype": "text/x-python",
   "name": "python",
   "nbconvert_exporter": "python",
   "pygments_lexer": "ipython3",
   "version": "3.9.18"
  }
 },
 "nbformat": 4,
 "nbformat_minor": 2
}
